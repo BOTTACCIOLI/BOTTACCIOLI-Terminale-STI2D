{
 "cells": [
  {
   "cell_type": "markdown",
   "metadata": {},
   "source": [
    "# TP Informatique n°1 : Les suites géométriques"
   ]
  },
  {
   "cell_type": "markdown",
   "metadata": {},
   "source": [
    "## I. Calculer des termes avec une suite géométrique"
   ]
  },
  {
   "cell_type": "markdown",
   "metadata": {},
   "source": [
    "On considère une suite géométrique de premier terme u0 et de raison q. L'algorithme suivant calcule alors le terme de rang n où n est donné au moment de la saisie :"
   ]
  },
  {
   "cell_type": "code",
   "execution_count": 1,
   "metadata": {},
   "outputs": [],
   "source": [
    "def premierexemple(u0,q,n):\n",
    "    u=u0*q**n\n",
    "    print(u)"
   ]
  },
  {
   "cell_type": "markdown",
   "metadata": {},
   "source": [
    "Utiliser cet algorithme pour calculer $u(10)$ pour une suite géométrique de raison 2 et de premier terme 1 :"
   ]
  },
  {
   "cell_type": "code",
   "execution_count": null,
   "metadata": {},
   "outputs": [],
   "source": []
  },
  {
   "cell_type": "markdown",
   "metadata": {},
   "source": [
    "Recopier cet algorithme en modifiant la dernière ligne pour qu'il affiche une phrase réponse du type \"Le terme recherché est ...\" :"
   ]
  },
  {
   "cell_type": "code",
   "execution_count": null,
   "metadata": {},
   "outputs": [],
   "source": []
  },
  {
   "cell_type": "markdown",
   "metadata": {},
   "source": [
    "Tester cet algorithme pour calculer de nouveau $u(10)$ pour une suite géométrique de raison 2 et de premier terme 1 :"
   ]
  },
  {
   "cell_type": "code",
   "execution_count": null,
   "metadata": {},
   "outputs": [],
   "source": []
  },
  {
   "cell_type": "markdown",
   "metadata": {},
   "source": [
    "Une unité de production fabrique 5 000 pièces en 2019 puis augmente se production de 4% chaque année. \n",
    "\n",
    "Compléter l'algorithme suivant qui a pour but de calculer au bout de n années :"
   ]
  },
  {
   "cell_type": "code",
   "execution_count": null,
   "metadata": {},
   "outputs": [],
   "source": [
    "def production(t,n):\n",
    "    q=...\n",
    "    u=...\n",
    "    for k in range(1,n+1):\n",
    "        u=u*q\n",
    "    print(...)"
   ]
  },
  {
   "cell_type": "markdown",
   "metadata": {},
   "source": [
    "Utiliser cet algorithme pour calculer la production en 2022 :"
   ]
  },
  {
   "cell_type": "code",
   "execution_count": null,
   "metadata": {},
   "outputs": [],
   "source": []
  },
  {
   "cell_type": "markdown",
   "metadata": {},
   "source": [
    "On cherche maintenant à savoir à partir de quelle année cette production dépassera 6 000 pièces par an. \n",
    "\n",
    "Pour cela, on va utiliser cette fois une boucle \"tant que\" (while en anglais) et non plus une boucle \"pour\" (for en anglais) car on ne sait pas à l'avance combien de fois on va devoir répéter le calcul. \n",
    "\n",
    "Compléter alors l'algorithme ci-dessous pour qu'il réponde à cette question :"
   ]
  },
  {
   "cell_type": "code",
   "execution_count": 6,
   "metadata": {},
   "outputs": [],
   "source": [
    "def seuil():\n",
    "    u=...\n",
    "    n=0\n",
    "    while u ... :\n",
    "        u=u*...\n",
    "        n=n+1\n",
    "    print(n)"
   ]
  },
  {
   "cell_type": "markdown",
   "metadata": {},
   "source": [
    "Utiliser cet algorithme pour répondre à la question posée :"
   ]
  },
  {
   "cell_type": "code",
   "execution_count": null,
   "metadata": {},
   "outputs": [],
   "source": []
  },
  {
   "cell_type": "markdown",
   "metadata": {},
   "source": [
    "## II. Les listes "
   ]
  },
  {
   "cell_type": "markdown",
   "metadata": {},
   "source": [
    "La première valeur d'une liste L est obtenue en tapant L[0], la valeur suivante L[1], etc.\n",
    "\n",
    "Si L=['a','b','c','d'] alors le terme 'a' de la liste a pour **indice** 0, le terme 'b' a pour **index 1**, et le terme 'c' a pour **rang** 2. Les mots indice, index ou rang sont synonymes.\n",
    "\n",
    "La fonction Python *len()* renvoie la **longueur** ou la **taille** de la liste L, c'est-à-dire le nombre n de valeurs de la liste L.\n",
    "Attention, si la liste L contient n valeurs alors la dernière valeur de la liste est L[n-1] que l'on peut aussi obtenir par L[len(L)-1].\n"
   ]
  },
  {
   "cell_type": "markdown",
   "metadata": {},
   "source": [
    "<span style='color:blue'>**Exemple**</span> :\n",
    "\n",
    "On considère la liste L=[11,5,17,14].\n",
    "\n",
    "Recopier cette liste puis faire afficher le premier terme de cette liste"
   ]
  },
  {
   "cell_type": "code",
   "execution_count": null,
   "metadata": {},
   "outputs": [],
   "source": []
  },
  {
   "cell_type": "markdown",
   "metadata": {},
   "source": [
    "Recopier cette liste puis faire afficher le troisième terme de cette liste"
   ]
  },
  {
   "cell_type": "code",
   "execution_count": null,
   "metadata": {},
   "outputs": [],
   "source": []
  },
  {
   "cell_type": "markdown",
   "metadata": {},
   "source": [
    "Recopier cette liste puis faire afficher la longueur de cette liste"
   ]
  },
  {
   "cell_type": "code",
   "execution_count": null,
   "metadata": {},
   "outputs": [],
   "source": []
  },
  {
   "cell_type": "markdown",
   "metadata": {},
   "source": [
    "Recopier cette liste puis faire afficher le dernier terme de cette liste"
   ]
  },
  {
   "cell_type": "code",
   "execution_count": null,
   "metadata": {},
   "outputs": [],
   "source": []
  },
  {
   "cell_type": "markdown",
   "metadata": {},
   "source": [
    "Pour ajouter un terme à une liste, il faut utiliser la commande $append$.\n",
    "\n",
    "Par exemple, si on veut ajouter le terme 5 à la fin, on doit taper $L.append(5)$, ce qui donne :"
   ]
  },
  {
   "cell_type": "code",
   "execution_count": 4,
   "metadata": {},
   "outputs": [],
   "source": [
    "def ajout(L):\n",
    "    L.append(5)\n",
    "    print(L)"
   ]
  },
  {
   "cell_type": "markdown",
   "metadata": {},
   "source": [
    "Utiliser cet algorithme pour ajouter 5 à la fin de la liste [2,8] :"
   ]
  },
  {
   "cell_type": "code",
   "execution_count": null,
   "metadata": {},
   "outputs": [],
   "source": []
  },
  {
   "cell_type": "markdown",
   "metadata": {},
   "source": [
    "## III. Listes et suites géométriques"
   ]
  },
  {
   "cell_type": "markdown",
   "metadata": {},
   "source": [
    "L'algorithme ci-dessous calcule tous les termes d'une suite géométrique de premier terme u_0 et de raison q et stocke au fur et à mesure ces termes dans une liste : "
   ]
  },
  {
   "cell_type": "code",
   "execution_count": null,
   "metadata": {},
   "outputs": [],
   "source": [
    "def touslestermes(u0,q,n):\n",
    "    L=[u0]\n",
    "    u=u0\n",
    "    for k in range (1,n):\n",
    "        u=u*q\n",
    "        L.append(u)\n",
    "    print(L)"
   ]
  },
  {
   "cell_type": "markdown",
   "metadata": {},
   "source": [
    "Utiliser cet algorithme pour qu'il calcule et affiche tous les 8 premiers termes de la suite géométrique de premier terme 1 et de raison 2 :"
   ]
  },
  {
   "cell_type": "code",
   "execution_count": null,
   "metadata": {},
   "outputs": [],
   "source": []
  }
 ],
 "metadata": {
  "kernelspec": {
   "display_name": "Python 3",
   "language": "python",
   "name": "python3"
  },
  "language_info": {
   "codemirror_mode": {
    "name": "ipython",
    "version": 3
   },
   "file_extension": ".py",
   "mimetype": "text/x-python",
   "name": "python",
   "nbconvert_exporter": "python",
   "pygments_lexer": "ipython3",
   "version": "3.8.5"
  }
 },
 "nbformat": 4,
 "nbformat_minor": 4
}
