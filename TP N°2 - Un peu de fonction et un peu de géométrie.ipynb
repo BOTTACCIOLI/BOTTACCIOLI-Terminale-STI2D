{
 "cells": [
  {
   "cell_type": "markdown",
   "metadata": {},
   "source": [
    "# TP 2 : \n",
    "\n",
    "Un algorithme mathématique est un procédé qui permet d'automatiser un calcul dans le but de le faire effectuer directement à une machine en lui donnant les bonnes instructions. Une fois l'algorithme programmé, cela permet un gain de temps et parfois de précision. Dans le cadre des suites numériques par exemple, on les utilise pour résoudre certaines questions qui nécessitent un grand nombre de \"boucles\".\n",
    "\n",
    "En langage Python, on commence toujours un algorithme par **def** suivi du nom de la \"fonction\" et de son (ou ses) paramètre(s) placé(s) entre parenthèses. *(attention, le mot \"fonction\" pour Python n'a pas exactement le même sens qu'en maths. Cela désigne une suite d'instructions qui saisit des \"arguments\" et retourne un résultat)*      \n",
    "\n",
    "La première ligne se termine toujours par \"2 points\" (**:**) qui marquent le démarrage d'un bloc d'instructions; toutes ces instructions sont \"décalées vers la droite\"\n",
    "\n",
    "Le résultat s'obtient grâce à la commande \"print(...)\"\n",
    "\n",
    "## 1/ Un premier exemple de \"fonction\" Python\n",
    "Voici ci-dessous un exemple d'algorithme:\n",
    "\n"
   ]
  },
  {
   "cell_type": "code",
   "execution_count": 31,
   "metadata": {},
   "outputs": [],
   "source": [
    "def calcul(x):\n",
    "    y=x+3\n",
    "    y=y**2\n",
    "    y=5*y\n",
    "    print(y)  "
   ]
  },
  {
   "cell_type": "markdown",
   "metadata": {},
   "source": [
    "*(Note: le * signifie \"multiplier\"; \"x**2\" signifie une mise au carré )* \n",
    "\n",
    "Pour utiliser un tel algorithme, il suffit de l'appeler par son nom (ici $calcul$ et de noter entre parenthèses la valeur que l'on veut donner à x. \n",
    "Faites cette manipulation dans la ligne ci-dessous, avec la valeur initiale **x=1**, puis avec une autre valeur initiale **x=-8**"
   ]
  },
  {
   "cell_type": "code",
   "execution_count": null,
   "metadata": {},
   "outputs": [],
   "source": []
  },
  {
   "cell_type": "markdown",
   "metadata": {},
   "source": [
    "Il est possible de simplifier l'algorithme précédent en remplaçant les trois lignes de calculs commençant par \"y=\" par une seule ligne. On l'appellera $calcbis$ .\n",
    "Ecrire cet algorithme simplifié ci-dessous, puis le tester avec les valeurs **x=1** puis **x=-8**  "
   ]
  },
  {
   "cell_type": "code",
   "execution_count": 35,
   "metadata": {},
   "outputs": [],
   "source": [
    "def ............:\n",
    "    y=..........\n",
    "    .........."
   ]
  },
  {
   "cell_type": "markdown",
   "metadata": {},
   "source": [
    "Quels sont les \"antécédents\" du nombre 500 par cette \"fonction\"? Réfléchir au brouillon, puis tester ci-dessous vos réponses avec l'algorithme précédent.\n",
    "\n",
    "--> Vérification du 1er antécédent:"
   ]
  },
  {
   "cell_type": "code",
   "execution_count": null,
   "metadata": {},
   "outputs": [],
   "source": []
  },
  {
   "cell_type": "markdown",
   "metadata": {},
   "source": [
    "--> Vérification du 2ème antécédent"
   ]
  },
  {
   "cell_type": "code",
   "execution_count": null,
   "metadata": {},
   "outputs": [],
   "source": []
  },
  {
   "cell_type": "markdown",
   "metadata": {},
   "source": [
    "Enfin, il est possible d'améliorer un algorithme en y insérant du texte pour qu'il affiche une phrase réponse lors de la commande \"print\". Le texte doit alors être mis entre guillemets et il doit y avoir une virgule qui sépare ce texte de la variable à afficher. On peut écrire par exemple:     **print(\"Le résultat est \",y)**\n",
    "\n",
    "Copier/coller ci-dessous l'algorithme créé à l'étape précédente, puis terminer par l'instruction qui affichera **\"L'image du nombre ...(*x*) est égale à ...(*y*)\"**"
   ]
  },
  {
   "cell_type": "code",
   "execution_count": null,
   "metadata": {},
   "outputs": [],
   "source": []
  },
  {
   "cell_type": "markdown",
   "metadata": {},
   "source": [
    "## 2/ Avec des fonctions permettant d'effectuer des calculs \"connus\"\n",
    "##### Cas n°1:\n",
    "Voici un algorithme incomplet, mais dont la lecture des instructions de calcul permet de reconnaître la notion mathématique à laquelle il fait référence.\n",
    "Vous devez:\n",
    "1/ Donner un titre , c'est à dire un \"nom\" à la fonction dans la 1ère ligne.\n",
    "2/ Trouver une phrase pour compléter judicieusement le texte qui apparaîtra lors de l'affichage du résultat.\n",
    "3/ Expérimenter l'algorithme avec un ou deux exemples de valeurs, pour vérifier qu'il fonctionne correctement."
   ]
  },
  {
   "cell_type": "code",
   "execution_count": 1,
   "metadata": {},
   "outputs": [
    {
     "ename": "SyntaxError",
     "evalue": "invalid syntax (<ipython-input-1-d651657df372>, line 1)",
     "output_type": "error",
     "traceback": [
      "\u001b[1;36m  File \u001b[1;32m\"<ipython-input-1-d651657df372>\"\u001b[1;36m, line \u001b[1;32m1\u001b[0m\n\u001b[1;33m    def ........(t):\u001b[0m\n\u001b[1;37m        ^\u001b[0m\n\u001b[1;31mSyntaxError\u001b[0m\u001b[1;31m:\u001b[0m invalid syntax\n"
     ]
    }
   ],
   "source": [
    "def ........(t):\n",
    "    p=1000*(1+t/100)\n",
    "    print(\"............\",p,\"€\")"
   ]
  },
  {
   "cell_type": "markdown",
   "metadata": {},
   "source": [
    "Vérification:"
   ]
  },
  {
   "cell_type": "code",
   "execution_count": null,
   "metadata": {},
   "outputs": [],
   "source": []
  },
  {
   "cell_type": "markdown",
   "metadata": {},
   "source": [
    "##### Cas n°2:\n",
    "Faire de même avec l'algorithme suivant:"
   ]
  },
  {
   "cell_type": "code",
   "execution_count": 51,
   "metadata": {},
   "outputs": [],
   "source": [
    "def ......(x,y):\n",
    "    h=(x*x+y*y)**0.5\n",
    "    print(\"............\",h)"
   ]
  },
  {
   "cell_type": "markdown",
   "metadata": {},
   "source": [
    "Vérification:"
   ]
  },
  {
   "cell_type": "code",
   "execution_count": null,
   "metadata": {},
   "outputs": [],
   "source": []
  },
  {
   "cell_type": "markdown",
   "metadata": {},
   "source": [
    "##### Cas n°3:\n",
    "Faire de même avec l'algorithme suivant:"
   ]
  },
  {
   "cell_type": "code",
   "execution_count": 53,
   "metadata": {},
   "outputs": [],
   "source": [
    "def .........(xA,yA,xB,yB):\n",
    "    m=(yB-......)/(.......)\n",
    "    p=yA-m*xA\n",
    "    print(\"............y=\",.....,\"x+\",......)"
   ]
  },
  {
   "cell_type": "markdown",
   "metadata": {},
   "source": [
    "Vérification:"
   ]
  },
  {
   "cell_type": "code",
   "execution_count": null,
   "metadata": {},
   "outputs": [],
   "source": []
  },
  {
   "cell_type": "markdown",
   "metadata": {},
   "source": [
    "En vous inspirant du modèle précédent, écrire ci-dessous un algorithme qui permet de calculer la distance AB séparant deux points dont on connaît les coordonnées:"
   ]
  },
  {
   "cell_type": "code",
   "execution_count": null,
   "metadata": {},
   "outputs": [],
   "source": []
  },
  {
   "cell_type": "markdown",
   "metadata": {},
   "source": [
    "Faire une vérification avec les points de coordponnées : A(1;4) et B(4;0)  *(on doit normalement obtenir AB=5)* "
   ]
  },
  {
   "cell_type": "code",
   "execution_count": 55,
   "metadata": {},
   "outputs": [],
   "source": []
  },
  {
   "cell_type": "markdown",
   "metadata": {},
   "source": [
    "##### Cas n°4 (pour finir en beauté......)\n",
    "Voici un dernier algorithme:"
   ]
  },
  {
   "cell_type": "code",
   "execution_count": 61,
   "metadata": {},
   "outputs": [],
   "source": [
    "def tangente(a):\n",
    "    f=a**2-3*a+4\n",
    "    d=2*a-3\n",
    "    k=-d*a+f\n",
    "    print(\"L'équation de la tangente à la courbe en\",a,\"est y=\",d,\"(x-\",a,\")+\",f,\" et donc y=\",d,\"x+\",k)"
   ]
  },
  {
   "cell_type": "markdown",
   "metadata": {},
   "source": [
    "--> Lire attentivement les instructions de cet algorithme pour comprendre ce que représentent les nombres f, d et k calculés.\n",
    "\n",
    "A l'aide de cet algorithme, déterminer  ci-dessous l'équation de la tangente à la courbe de la fonction concernée, en **x=0** puis **x=5**\n"
   ]
  },
  {
   "cell_type": "code",
   "execution_count": null,
   "metadata": {},
   "outputs": [],
   "source": []
  },
  {
   "cell_type": "code",
   "execution_count": null,
   "metadata": {},
   "outputs": [],
   "source": []
  },
  {
   "cell_type": "markdown",
   "metadata": {},
   "source": [
    "En quel point de la courbe la tangente est-elle horizontale? Vérifier en appliquant l'agorithme précédent."
   ]
  },
  {
   "cell_type": "code",
   "execution_count": null,
   "metadata": {},
   "outputs": [],
   "source": []
  },
  {
   "cell_type": "markdown",
   "metadata": {},
   "source": [
    "Pour finir, reprendre et modifier convenablement l'algorithme précédent *(l'appeler par exemple $tangentebis$)* pour qu'il permette de déterminer l'équation , en un point d'abscisse *a*, de la tangente à la courbe de la fonction suivante:\n",
    "***f(x)=3x^4-0.5x^2+3x-4/x*** \n",
    "\n",
    "*(3 fois x puissance 4 moins 0.5 fois x au carré plus 3 fois x moins 4 sur x)*"
   ]
  },
  {
   "cell_type": "code",
   "execution_count": 78,
   "metadata": {},
   "outputs": [],
   "source": []
  },
  {
   "cell_type": "markdown",
   "metadata": {},
   "source": [
    "Utiliser ce nouvel algorithme pour vérifier l'affirmation suivante: \n",
    "\n",
    "\"La tangente en 1 à la courbe de cette fonction, passe aussi par le point M de coordonnées M(10;163,5)\" :"
   ]
  },
  {
   "cell_type": "code",
   "execution_count": null,
   "metadata": {},
   "outputs": [],
   "source": []
  },
  {
   "cell_type": "markdown",
   "metadata": {},
   "source": [
    "###                                                                   FIN  du TP   :-)   "
   ]
  }
 ],
 "metadata": {
  "celltoolbar": "Format de la Cellule Texte Brut",
  "kernelspec": {
   "display_name": "Python 3",
   "language": "python",
   "name": "python3"
  },
  "language_info": {
   "codemirror_mode": {
    "name": "ipython",
    "version": 3
   },
   "file_extension": ".py",
   "mimetype": "text/x-python",
   "name": "python",
   "nbconvert_exporter": "python",
   "pygments_lexer": "ipython3",
   "version": "3.8.5"
  }
 },
 "nbformat": 4,
 "nbformat_minor": 5
}
